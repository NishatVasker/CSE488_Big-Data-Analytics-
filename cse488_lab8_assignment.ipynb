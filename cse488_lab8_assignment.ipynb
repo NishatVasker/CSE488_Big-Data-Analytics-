{
  "metadata": {
    "kernelspec": {
      "language": "python",
      "display_name": "Python 3",
      "name": "python3"
    },
    "language_info": {
      "name": "python",
      "version": "3.10.12",
      "mimetype": "text/x-python",
      "codemirror_mode": {
        "name": "ipython",
        "version": 3
      },
      "pygments_lexer": "ipython3",
      "nbconvert_exporter": "python",
      "file_extension": ".py"
    },
    "kaggle": {
      "accelerator": "gpu",
      "dataSources": [],
      "dockerImageVersionId": 30840,
      "isInternetEnabled": true,
      "language": "python",
      "sourceType": "notebook",
      "isGpuEnabled": true
    },
    "colab": {
      "provenance": [],
      "include_colab_link": true
    }
  },
  "nbformat_minor": 0,
  "nbformat": 4,
  "cells": [
    {
      "cell_type": "markdown",
      "metadata": {
        "id": "view-in-github",
        "colab_type": "text"
      },
      "source": [
        "<a href=\"https://colab.research.google.com/github/NishatVasker/CSE488_Big-Data-Analytics-/blob/main/cse488_lab8_assignment.ipynb\" target=\"_parent\"><img src=\"https://colab.research.google.com/assets/colab-badge.svg\" alt=\"Open In Colab\"/></a>"
      ]
    },
    {
      "cell_type": "code",
      "source": [
        "import tensorflow as tf\n",
        "from tensorflow.keras import layers, models\n",
        "from tensorflow.keras.utils import to_categorical\n",
        "import matplotlib.pyplot as plt\n",
        "import numpy as np\n",
        "from sklearn.metrics import classification_report, confusion_matrix\n",
        "import seaborn as sns\n",
        "import random"
      ],
      "metadata": {
        "trusted": true,
        "execution": {
          "iopub.status.busy": "2025-01-16T16:42:28.418718Z",
          "iopub.execute_input": "2025-01-16T16:42:28.419005Z",
          "iopub.status.idle": "2025-01-16T16:42:41.046580Z",
          "shell.execute_reply.started": "2025-01-16T16:42:28.418981Z",
          "shell.execute_reply": "2025-01-16T16:42:41.045885Z"
        },
        "id": "tzSGeYtHFWu7"
      },
      "outputs": [],
      "execution_count": null
    },
    {
      "cell_type": "code",
      "source": [
        "# Load CIFAR-10 dataset\n",
        "(x_train, y_train), (x_test, y_test) = tf.keras.datasets.cifar10.load_data()"
      ],
      "metadata": {
        "trusted": true,
        "execution": {
          "iopub.status.busy": "2025-01-16T16:42:41.047697Z",
          "iopub.execute_input": "2025-01-16T16:42:41.048248Z",
          "iopub.status.idle": "2025-01-16T16:42:47.055607Z",
          "shell.execute_reply.started": "2025-01-16T16:42:41.048209Z",
          "shell.execute_reply": "2025-01-16T16:42:47.054788Z"
        },
        "id": "2jzR-lW_FWu-",
        "outputId": "13b92e07-aba2-4ac8-e0fc-997b2d3e40d4"
      },
      "outputs": [
        {
          "name": "stdout",
          "text": "Downloading data from https://www.cs.toronto.edu/~kriz/cifar-10-python.tar.gz\n\u001b[1m170498071/170498071\u001b[0m \u001b[32m━━━━━━━━━━━━━━━━━━━━\u001b[0m\u001b[37m\u001b[0m \u001b[1m3s\u001b[0m 0us/step\n",
          "output_type": "stream"
        }
      ],
      "execution_count": null
    },
    {
      "cell_type": "code",
      "source": [
        "# Normalize data\n",
        "x_train = x_train.astype('float32') / 255.0\n",
        "x_test = x_test.astype('float32') / 255.0"
      ],
      "metadata": {
        "trusted": true,
        "execution": {
          "iopub.status.busy": "2025-01-16T16:42:47.056918Z",
          "iopub.execute_input": "2025-01-16T16:42:47.057218Z",
          "iopub.status.idle": "2025-01-16T16:42:47.433737Z",
          "shell.execute_reply.started": "2025-01-16T16:42:47.057190Z",
          "shell.execute_reply": "2025-01-16T16:42:47.433077Z"
        },
        "id": "ZclVFezmFWvA"
      },
      "outputs": [],
      "execution_count": null
    },
    {
      "cell_type": "code",
      "source": [
        "# One-hot encode labels\n",
        "y_train_cat = to_categorical(y_train, 10)\n",
        "y_test_cat = to_categorical(y_test, 10)"
      ],
      "metadata": {
        "trusted": true,
        "execution": {
          "iopub.status.busy": "2025-01-16T16:43:00.165510Z",
          "iopub.execute_input": "2025-01-16T16:43:00.165810Z",
          "iopub.status.idle": "2025-01-16T16:43:00.172863Z",
          "shell.execute_reply.started": "2025-01-16T16:43:00.165790Z",
          "shell.execute_reply": "2025-01-16T16:43:00.172200Z"
        },
        "id": "td8VvvoBFWvA"
      },
      "outputs": [],
      "execution_count": null
    },
    {
      "cell_type": "code",
      "source": [
        "class_names = ['Airplane', 'Automobile', 'Bird', 'Cat', 'Deer', 'Dog', 'Frog', 'Horse', 'Ship', 'Truck']"
      ],
      "metadata": {
        "trusted": true,
        "execution": {
          "iopub.status.busy": "2025-01-16T16:43:00.955482Z",
          "iopub.execute_input": "2025-01-16T16:43:00.955763Z",
          "iopub.status.idle": "2025-01-16T16:43:00.959514Z",
          "shell.execute_reply.started": "2025-01-16T16:43:00.955743Z",
          "shell.execute_reply": "2025-01-16T16:43:00.958569Z"
        },
        "id": "W4kf64f4FWvB"
      },
      "outputs": [],
      "execution_count": null
    },
    {
      "cell_type": "code",
      "source": [
        "# Show random images from all classes\n",
        "plt.figure(figsize=(10, 10))\n",
        "for i in range(10):\n",
        "    idx = random.choice(np.where(y_train.flatten() == i)[0])\n",
        "    plt.subplot(2, 5, i + 1)\n",
        "    plt.imshow(x_train[idx])\n",
        "    plt.title(class_names[i])\n",
        "    plt.axis('off')\n",
        "plt.suptitle('Random Images from Each Class', fontsize=16)\n",
        "plt.show()"
      ],
      "metadata": {
        "trusted": true,
        "execution": {
          "iopub.status.busy": "2025-01-16T16:43:02.549622Z",
          "iopub.execute_input": "2025-01-16T16:43:02.549912Z",
          "iopub.status.idle": "2025-01-16T16:43:03.089979Z",
          "shell.execute_reply.started": "2025-01-16T16:43:02.549891Z",
          "shell.execute_reply": "2025-01-16T16:43:03.089182Z"
        },
        "id": "ZrkQc9HMFWvB",
        "outputId": "eb3c18be-11ff-4c0c-aa14-783254a1fd95"
      },
      "outputs": [
        {
          "output_type": "display_data",
          "data": {
            "text/plain": "<Figure size 1000x1000 with 10 Axes>",
            "image/png": "[encoded data removed]"
          },
          "metadata": {}
        }
      ],
      "execution_count": null
    },
    {
      "cell_type": "markdown",
      "source": [
        "## Task 1"
      ],
      "metadata": {
        "id": "_HsTti2iFWvC"
      }
    },
    {
      "cell_type": "code",
      "source": [
        "# Modified CNN model\n",
        "modified_cnn_model = models.Sequential([\n",
        "    layers.Input(shape=(32, 32, 3)),\n",
        "\n",
        "    # Block 1\n",
        "    layers.Conv2D(32, (3, 3), activation='relu', padding='same'),\n",
        "    layers.BatchNormalization(),\n",
        "    layers.Conv2D(32, (3, 3), activation='relu', padding='same'),\n",
        "    layers.BatchNormalization(),\n",
        "    layers.MaxPooling2D((2, 2)),\n",
        "    layers.Dropout(0.3),\n",
        "\n",
        "    # Block 2\n",
        "    layers.Conv2D(64, (3, 3), activation='relu', padding='same'),\n",
        "    layers.BatchNormalization(),\n",
        "    layers.Conv2D(64, (3, 3), activation='relu', padding='same'),\n",
        "    layers.BatchNormalization(),\n",
        "    layers.MaxPooling2D((2, 2)),\n",
        "    layers.Dropout(0.4),\n",
        "\n",
        "    # Block 3\n",
        "    layers.Conv2D(128, (5, 5), activation='relu', padding='same'),\n",
        "    layers.BatchNormalization(),\n",
        "    layers.Conv2D(128, (3, 3), activation='relu', padding='same'),\n",
        "    layers.BatchNormalization(),\n",
        "    layers.MaxPooling2D((2, 2)),\n",
        "    layers.Dropout(0.5),\n",
        "\n",
        "    # Global Average Pooling\n",
        "    layers.GlobalAveragePooling2D(),\n",
        "\n",
        "    # Fully Connected Layers\n",
        "    layers.Dense(128, activation='relu'),\n",
        "    layers.BatchNormalization(),\n",
        "    layers.Dropout(0.5),\n",
        "    layers.Dense(10, activation='softmax')\n",
        "])\n",
        "\n",
        "# Compile the modified model\n",
        "modified_cnn_model.compile(optimizer='adam',\n",
        "                           loss='categorical_crossentropy',\n",
        "                           metrics=['accuracy'])\n",
        "\n",
        "# Train the modified model\n",
        "modified_cnn_history = modified_cnn_model.fit(x_train, y_train_cat,\n",
        "                                              epochs=15,\n",
        "                                              batch_size=64,\n",
        "                                              validation_split=0.2)"
      ],
      "metadata": {
        "trusted": true,
        "execution": {
          "iopub.status.busy": "2025-01-16T16:43:07.312890Z",
          "iopub.execute_input": "2025-01-16T16:43:07.313208Z",
          "iopub.status.idle": "2025-01-16T16:44:26.594191Z",
          "shell.execute_reply.started": "2025-01-16T16:43:07.313185Z",
          "shell.execute_reply": "2025-01-16T16:44:26.593448Z"
        },
        "id": "Bw3F-d-SFWvC",
        "outputId": "c22e8dd1-1a32-4016-f795-396e7b7e63b2"
      },
      "outputs": [
        {
          "name": "stdout",
          "text": "Epoch 1/15\n\u001b[1m625/625\u001b[0m \u001b[32m━━━━━━━━━━━━━━━━━━━━\u001b[0m\u001b[37m\u001b[0m \u001b[1m17s\u001b[0m 10ms/step - accuracy: 0.3033 - loss: 2.1476 - val_accuracy: 0.4812 - val_loss: 1.4438\nEpoch 2/15\n\u001b[1m625/625\u001b[0m \u001b[32m━━━━━━━━━━━━━━━━━━━━\u001b[0m\u001b[37m\u001b[0m \u001b[1m4s\u001b[0m 7ms/step - accuracy: 0.5478 - loss: 1.2622 - val_accuracy: 0.6561 - val_loss: 0.9385\nEpoch 3/15\n\u001b[1m625/625\u001b[0m \u001b[32m━━━━━━━━━━━━━━━━━━━━\u001b[0m\u001b[37m\u001b[0m \u001b[1m4s\u001b[0m 7ms/step - accuracy: 0.6504 - loss: 1.0008 - val_accuracy: 0.6623 - val_loss: 0.9476\nEpoch 4/15\n\u001b[1m625/625\u001b[0m \u001b[32m━━━━━━━━━━━━━━━━━━━━\u001b[0m\u001b[37m\u001b[0m \u001b[1m4s\u001b[0m 7ms/step - accuracy: 0.6999 - loss: 0.8575 - val_accuracy: 0.6867 - val_loss: 0.9217\nEpoch 5/15\n\u001b[1m625/625\u001b[0m \u001b[32m━━━━━━━━━━━━━━━━━━━━\u001b[0m\u001b[37m\u001b[0m \u001b[1m4s\u001b[0m 7ms/step - accuracy: 0.7398 - loss: 0.7607 - val_accuracy: 0.7568 - val_loss: 0.7211\nEpoch 6/15\n\u001b[1m625/625\u001b[0m \u001b[32m━━━━━━━━━━━━━━━━━━━━\u001b[0m\u001b[37m\u001b[0m \u001b[1m4s\u001b[0m 7ms/step - accuracy: 0.7573 - loss: 0.7086 - val_accuracy: 0.7740 - val_loss: 0.6555\nEpoch 7/15\n\u001b[1m625/625\u001b[0m \u001b[32m━━━━━━━━━━━━━━━━━━━━\u001b[0m\u001b[37m\u001b[0m \u001b[1m4s\u001b[0m 7ms/step - accuracy: 0.7774 - loss: 0.6531 - val_accuracy: 0.7754 - val_loss: 0.6527\nEpoch 8/15\n\u001b[1m625/625\u001b[0m \u001b[32m━━━━━━━━━━━━━━━━━━━━\u001b[0m\u001b[37m\u001b[0m \u001b[1m4s\u001b[0m 7ms/step - accuracy: 0.7887 - loss: 0.6173 - val_accuracy: 0.7971 - val_loss: 0.5964\nEpoch 9/15\n\u001b[1m625/625\u001b[0m \u001b[32m━━━━━━━━━━━━━━━━━━━━\u001b[0m\u001b[37m\u001b[0m \u001b[1m4s\u001b[0m 7ms/step - accuracy: 0.7987 - loss: 0.5791 - val_accuracy: 0.8042 - val_loss: 0.5801\nEpoch 10/15\n\u001b[1m625/625\u001b[0m \u001b[32m━━━━━━━━━━━━━━━━━━━━\u001b[0m\u001b[37m\u001b[0m \u001b[1m4s\u001b[0m 7ms/step - accuracy: 0.8141 - loss: 0.5419 - val_accuracy: 0.8103 - val_loss: 0.5512\nEpoch 11/15\n\u001b[1m625/625\u001b[0m \u001b[32m━━━━━━━━━━━━━━━━━━━━\u001b[0m\u001b[37m\u001b[0m \u001b[1m4s\u001b[0m 7ms/step - accuracy: 0.8278 - loss: 0.5088 - val_accuracy: 0.8005 - val_loss: 0.5860\nEpoch 12/15\n\u001b[1m625/625\u001b[0m \u001b[32m━━━━━━━━━━━━━━━━━━━━\u001b[0m\u001b[37m\u001b[0m \u001b[1m4s\u001b[0m 7ms/step - accuracy: 0.8303 - loss: 0.4927 - val_accuracy: 0.8118 - val_loss: 0.5459\nEpoch 13/15\n\u001b[1m625/625\u001b[0m \u001b[32m━━━━━━━━━━━━━━━━━━━━\u001b[0m\u001b[37m\u001b[0m \u001b[1m4s\u001b[0m 7ms/step - accuracy: 0.8399 - loss: 0.4661 - val_accuracy: 0.8231 - val_loss: 0.5202\nEpoch 14/15\n\u001b[1m625/625\u001b[0m \u001b[32m━━━━━━━━━━━━━━━━━━━━\u001b[0m\u001b[37m\u001b[0m \u001b[1m4s\u001b[0m 7ms/step - accuracy: 0.8465 - loss: 0.4520 - val_accuracy: 0.8205 - val_loss: 0.5428\nEpoch 15/15\n\u001b[1m625/625\u001b[0m \u001b[32m━━━━━━━━━━━━━━━━━━━━\u001b[0m\u001b[37m\u001b[0m \u001b[1m4s\u001b[0m 7ms/step - accuracy: 0.8521 - loss: 0.4325 - val_accuracy: 0.8314 - val_loss: 0.4874\n",
          "output_type": "stream"
        }
      ],
      "execution_count": null
    },
    {
      "cell_type": "code",
      "source": [
        "test_loss, test_accuracy = modified_cnn_model.evaluate(x_test, y_test_cat)\n",
        "print(\"Modified CNN Test Accuracy:\", test_accuracy)"
      ],
      "metadata": {
        "trusted": true,
        "execution": {
          "iopub.status.busy": "2025-01-16T16:44:35.582829Z",
          "iopub.execute_input": "2025-01-16T16:44:35.583153Z",
          "iopub.status.idle": "2025-01-16T16:44:37.312649Z",
          "shell.execute_reply.started": "2025-01-16T16:44:35.583101Z",
          "shell.execute_reply": "2025-01-16T16:44:37.311933Z"
        },
        "id": "HbaOQB1MFWvD",
        "outputId": "e3a85915-4b52-411f-a795-45a35e1adb8a"
      },
      "outputs": [
        {
          "name": "stdout",
          "text": "\u001b[1m313/313\u001b[0m \u001b[32m━━━━━━━━━━━━━━━━━━━━\u001b[0m\u001b[37m\u001b[0m \u001b[1m1s\u001b[0m 2ms/step - accuracy: 0.8375 - loss: 0.4928\nModified CNN Test Accuracy: 0.8374999761581421\n",
          "output_type": "stream"
        }
      ],
      "execution_count": null
    },
    {
      "cell_type": "markdown",
      "source": [
        "## Task2"
      ],
      "metadata": {
        "id": "A9vlAkNGFWvD"
      }
    },
    {
      "cell_type": "code",
      "source": [
        "from tensorflow.keras.datasets import fashion_mnist"
      ],
      "metadata": {
        "trusted": true,
        "execution": {
          "iopub.status.busy": "2025-01-16T16:44:42.014731Z",
          "iopub.execute_input": "2025-01-16T16:44:42.015089Z",
          "iopub.status.idle": "2025-01-16T16:44:42.020978Z",
          "shell.execute_reply.started": "2025-01-16T16:44:42.015048Z",
          "shell.execute_reply": "2025-01-16T16:44:42.020133Z"
        },
        "id": "rY48kvZVFWvD"
      },
      "outputs": [],
      "execution_count": null
    },
    {
      "cell_type": "code",
      "source": [
        "# Load FASHION-MNIST dataset\n",
        "(x_train_fmnist, y_train_fmnist), (x_test_fmnist, y_test_fmnist) = fashion_mnist.load_data()"
      ],
      "metadata": {
        "trusted": true,
        "execution": {
          "iopub.status.busy": "2025-01-16T16:44:42.314782Z",
          "iopub.execute_input": "2025-01-16T16:44:42.315020Z",
          "iopub.status.idle": "2025-01-16T16:44:43.115867Z",
          "shell.execute_reply.started": "2025-01-16T16:44:42.315000Z",
          "shell.execute_reply": "2025-01-16T16:44:43.115203Z"
        },
        "id": "CSpgXJb1FWvE",
        "outputId": "61334eec-acc7-497d-f891-47f89a174b8a"
      },
      "outputs": [
        {
          "name": "stdout",
          "text": "Downloading data from https://storage.googleapis.com/tensorflow/tf-keras-datasets/train-labels-idx1-ubyte.gz\n\u001b[1m29515/29515\u001b[0m \u001b[32m━━━━━━━━━━━━━━━━━━━━\u001b[0m\u001b[37m\u001b[0m \u001b[1m0s\u001b[0m 0us/step\nDownloading data from https://storage.googleapis.com/tensorflow/tf-keras-datasets/train-images-idx3-ubyte.gz\n\u001b[1m26421880/26421880\u001b[0m \u001b[32m━━━━━━━━━━━━━━━━━━━━\u001b[0m\u001b[37m\u001b[0m \u001b[1m0s\u001b[0m 0us/step\nDownloading data from https://storage.googleapis.com/tensorflow/tf-keras-datasets/t10k-labels-idx1-ubyte.gz\n\u001b[1m5148/5148\u001b[0m \u001b[32m━━━━━━━━━━━━━━━━━━━━\u001b[0m\u001b[37m\u001b[0m \u001b[1m0s\u001b[0m 0us/step\nDownloading data from https://storage.googleapis.com/tensorflow/tf-keras-datasets/t10k-images-idx3-ubyte.gz\n\u001b[1m4422102/4422102\u001b[0m \u001b[32m━━━━━━━━━━━━━━━━━━━━\u001b[0m\u001b[37m\u001b[0m \u001b[1m0s\u001b[0m 0us/step\n",
          "output_type": "stream"
        }
      ],
      "execution_count": null
    },
    {
      "cell_type": "code",
      "source": [
        "# Reshape and normalize the images\n",
        "x_train_fmnist = x_train_fmnist.reshape(-1, 28, 28, 1).astype('float32') / 255.0\n",
        "x_test_fmnist = x_test_fmnist.reshape(-1, 28, 28, 1).astype('float32') / 255.0"
      ],
      "metadata": {
        "trusted": true,
        "execution": {
          "iopub.status.busy": "2025-01-16T16:44:44.794766Z",
          "iopub.execute_input": "2025-01-16T16:44:44.795084Z",
          "iopub.status.idle": "2025-01-16T16:44:44.913764Z",
          "shell.execute_reply.started": "2025-01-16T16:44:44.795055Z",
          "shell.execute_reply": "2025-01-16T16:44:44.913038Z"
        },
        "id": "PK7Y0KQeFWvE"
      },
      "outputs": [],
      "execution_count": null
    },
    {
      "cell_type": "code",
      "source": [
        "# One-hot encode the labels\n",
        "y_train_fmnist_cat = to_categorical(y_train_fmnist, 10)\n",
        "y_test_fmnist_cat = to_categorical(y_test_fmnist, 10)"
      ],
      "metadata": {
        "trusted": true,
        "execution": {
          "iopub.status.busy": "2025-01-16T16:44:46.388490Z",
          "iopub.execute_input": "2025-01-16T16:44:46.388783Z",
          "iopub.status.idle": "2025-01-16T16:44:46.394098Z",
          "shell.execute_reply.started": "2025-01-16T16:44:46.388762Z",
          "shell.execute_reply": "2025-01-16T16:44:46.393285Z"
        },
        "id": "0pam1hoJFWvE"
      },
      "outputs": [],
      "execution_count": null
    },
    {
      "cell_type": "code",
      "source": [
        "# CNN model (same as Task 1 with padding on the first convolution layer)\n",
        "cnn_model_fmnist = models.Sequential([\n",
        "    layers.Input(shape=(28, 28, 1)),\n",
        "\n",
        "    # Convolution Block 1 with padding\n",
        "    layers.Conv2D(32, (3, 3), activation='relu', padding='same'),\n",
        "    layers.BatchNormalization(),\n",
        "    layers.MaxPooling2D((2, 2)),\n",
        "\n",
        "    # Convolution Block 2\n",
        "    layers.Conv2D(64, (3, 3), activation='relu', padding='same'),\n",
        "    layers.BatchNormalization(),\n",
        "    layers.MaxPooling2D((2, 2)),\n",
        "\n",
        "    # Convolution Block 3\n",
        "    layers.Conv2D(128, (3, 3), activation='relu', padding='same'),\n",
        "    layers.BatchNormalization(),\n",
        "    layers.MaxPooling2D((2, 2)),\n",
        "\n",
        "    # Flatten and Dense layers\n",
        "    layers.Flatten(),\n",
        "    layers.Dense(128, activation='relu'),\n",
        "    layers.Dropout(0.5),\n",
        "    layers.Dense(10, activation='softmax')\n",
        "])\n"
      ],
      "metadata": {
        "trusted": true,
        "execution": {
          "iopub.status.busy": "2025-01-16T16:44:50.018719Z",
          "iopub.execute_input": "2025-01-16T16:44:50.019012Z",
          "iopub.status.idle": "2025-01-16T16:44:50.089383Z",
          "shell.execute_reply.started": "2025-01-16T16:44:50.018990Z",
          "shell.execute_reply": "2025-01-16T16:44:50.088732Z"
        },
        "id": "-bcpvMa2FWvE"
      },
      "outputs": [],
      "execution_count": null
    },
    {
      "cell_type": "code",
      "source": [
        "# Compile the model\n",
        "cnn_model_fmnist.compile(optimizer='adam',\n",
        "                         loss='categorical_crossentropy',\n",
        "                         metrics=['accuracy'])\n",
        "\n",
        "# Train the CNN model on the FASHION-MNIST dataset\n",
        "cnn_history_fmnist = cnn_model_fmnist.fit(x_train_fmnist, y_train_fmnist_cat,\n",
        "                                          epochs=15,\n",
        "                                          batch_size=64,\n",
        "                                          validation_split=0.2)"
      ],
      "metadata": {
        "trusted": true,
        "execution": {
          "iopub.status.busy": "2025-01-16T16:44:51.034257Z",
          "iopub.execute_input": "2025-01-16T16:44:51.034597Z",
          "iopub.status.idle": "2025-01-16T16:45:35.115787Z",
          "shell.execute_reply.started": "2025-01-16T16:44:51.034570Z",
          "shell.execute_reply": "2025-01-16T16:45:35.115077Z"
        },
        "id": "hBmFiiIRFWvF",
        "outputId": "adfeef1b-1fc4-4b58-bd0d-e5d873b95edc"
      },
      "outputs": [
        {
          "name": "stdout",
          "text": "Epoch 1/15\n\u001b[1m750/750\u001b[0m \u001b[32m━━━━━━━━━━━━━━━━━━━━\u001b[0m\u001b[37m\u001b[0m \u001b[1m8s\u001b[0m 5ms/step - accuracy: 0.7481 - loss: 0.7467 - val_accuracy: 0.8842 - val_loss: 0.3159\nEpoch 2/15\n\u001b[1m750/750\u001b[0m \u001b[32m━━━━━━━━━━━━━━━━━━━━\u001b[0m\u001b[37m\u001b[0m \u001b[1m3s\u001b[0m 3ms/step - accuracy: 0.8769 - loss: 0.3438 - val_accuracy: 0.8967 - val_loss: 0.2798\nEpoch 3/15\n\u001b[1m750/750\u001b[0m \u001b[32m━━━━━━━━━━━━━━━━━━━━\u001b[0m\u001b[37m\u001b[0m \u001b[1m2s\u001b[0m 3ms/step - accuracy: 0.8934 - loss: 0.2939 - val_accuracy: 0.9001 - val_loss: 0.2653\nEpoch 4/15\n\u001b[1m750/750\u001b[0m \u001b[32m━━━━━━━━━━━━━━━━━━━━\u001b[0m\u001b[37m\u001b[0m \u001b[1m3s\u001b[0m 3ms/step - accuracy: 0.9060 - loss: 0.2647 - val_accuracy: 0.8813 - val_loss: 0.3220\nEpoch 5/15\n\u001b[1m750/750\u001b[0m \u001b[32m━━━━━━━━━━━━━━━━━━━━\u001b[0m\u001b[37m\u001b[0m \u001b[1m3s\u001b[0m 3ms/step - accuracy: 0.9158 - loss: 0.2337 - val_accuracy: 0.9130 - val_loss: 0.2497\nEpoch 6/15\n\u001b[1m750/750\u001b[0m \u001b[32m━━━━━━━━━━━━━━━━━━━━\u001b[0m\u001b[37m\u001b[0m \u001b[1m3s\u001b[0m 3ms/step - accuracy: 0.9223 - loss: 0.2132 - val_accuracy: 0.9072 - val_loss: 0.2597\nEpoch 7/15\n\u001b[1m750/750\u001b[0m \u001b[32m━━━━━━━━━━━━━━━━━━━━\u001b[0m\u001b[37m\u001b[0m \u001b[1m3s\u001b[0m 3ms/step - accuracy: 0.9265 - loss: 0.1993 - val_accuracy: 0.9208 - val_loss: 0.2308\nEpoch 8/15\n\u001b[1m750/750\u001b[0m \u001b[32m━━━━━━━━━━━━━━━━━━━━\u001b[0m\u001b[37m\u001b[0m \u001b[1m3s\u001b[0m 3ms/step - accuracy: 0.9327 - loss: 0.1799 - val_accuracy: 0.9212 - val_loss: 0.2318\nEpoch 9/15\n\u001b[1m750/750\u001b[0m \u001b[32m━━━━━━━━━━━━━━━━━━━━\u001b[0m\u001b[37m\u001b[0m \u001b[1m3s\u001b[0m 3ms/step - accuracy: 0.9401 - loss: 0.1632 - val_accuracy: 0.9162 - val_loss: 0.2483\nEpoch 10/15\n\u001b[1m750/750\u001b[0m \u001b[32m━━━━━━━━━━━━━━━━━━━━\u001b[0m\u001b[37m\u001b[0m \u001b[1m3s\u001b[0m 3ms/step - accuracy: 0.9419 - loss: 0.1543 - val_accuracy: 0.9194 - val_loss: 0.2522\nEpoch 11/15\n\u001b[1m750/750\u001b[0m \u001b[32m━━━━━━━━━━━━━━━━━━━━\u001b[0m\u001b[37m\u001b[0m \u001b[1m3s\u001b[0m 3ms/step - accuracy: 0.9477 - loss: 0.1400 - val_accuracy: 0.9142 - val_loss: 0.2806\nEpoch 12/15\n\u001b[1m750/750\u001b[0m \u001b[32m━━━━━━━━━━━━━━━━━━━━\u001b[0m\u001b[37m\u001b[0m \u001b[1m2s\u001b[0m 3ms/step - accuracy: 0.9522 - loss: 0.1273 - val_accuracy: 0.9090 - val_loss: 0.2812\nEpoch 13/15\n\u001b[1m750/750\u001b[0m \u001b[32m━━━━━━━━━━━━━━━━━━━━\u001b[0m\u001b[37m\u001b[0m \u001b[1m3s\u001b[0m 3ms/step - accuracy: 0.9548 - loss: 0.1189 - val_accuracy: 0.9204 - val_loss: 0.2740\nEpoch 14/15\n\u001b[1m750/750\u001b[0m \u001b[32m━━━━━━━━━━━━━━━━━━━━\u001b[0m\u001b[37m\u001b[0m \u001b[1m3s\u001b[0m 3ms/step - accuracy: 0.9559 - loss: 0.1135 - val_accuracy: 0.9162 - val_loss: 0.2869\nEpoch 15/15\n\u001b[1m750/750\u001b[0m \u001b[32m━━━━━━━━━━━━━━━━━━━━\u001b[0m\u001b[37m\u001b[0m \u001b[1m2s\u001b[0m 3ms/step - accuracy: 0.9577 - loss: 0.1102 - val_accuracy: 0.9169 - val_loss: 0.2966\n",
          "output_type": "stream"
        }
      ],
      "execution_count": null
    },
    {
      "cell_type": "code",
      "source": [
        "# Evaluate the model on the test set\n",
        "test_loss_fmnist, test_accuracy_fmnist = cnn_model_fmnist.evaluate(x_test_fmnist, y_test_fmnist_cat)\n",
        "\n",
        "print(\"Test Accuracy on FASHION-MNIST:\", test_accuracy_fmnist)"
      ],
      "metadata": {
        "trusted": true,
        "execution": {
          "iopub.status.busy": "2025-01-16T16:46:39.154067Z",
          "iopub.execute_input": "2025-01-16T16:46:39.154404Z",
          "iopub.status.idle": "2025-01-16T16:46:40.202400Z",
          "shell.execute_reply.started": "2025-01-16T16:46:39.154378Z",
          "shell.execute_reply": "2025-01-16T16:46:40.201742Z"
        },
        "id": "5OOdUJtMFWvF",
        "outputId": "98aae86e-f5ee-44d4-fa7c-a5b91654cb1e"
      },
      "outputs": [
        {
          "name": "stdout",
          "text": "\u001b[1m313/313\u001b[0m \u001b[32m━━━━━━━━━━━━━━━━━━━━\u001b[0m\u001b[37m\u001b[0m \u001b[1m1s\u001b[0m 3ms/step - accuracy: 0.9103 - loss: 0.3397\nTest Accuracy on FASHION-MNIST: 0.9124000072479248\n",
          "output_type": "stream"
        }
      ],
      "execution_count": null
    },
    {
      "cell_type": "code",
      "source": [
        "# Define the custom CNN model\n",
        "cnn_model_improved = models.Sequential([\n",
        "    layers.Input(shape=(28, 28, 1)),\n",
        "\n",
        "    # Convolution Block 1\n",
        "    layers.Conv2D(64, (3, 3), activation='relu', padding='same'),\n",
        "    layers.BatchNormalization(),\n",
        "    layers.MaxPooling2D((2, 2)),\n",
        "\n",
        "    # Convolution Block 2\n",
        "    layers.Conv2D(128, (3, 3), activation='relu', padding='same'),\n",
        "    layers.BatchNormalization(),\n",
        "    layers.MaxPooling2D((2, 2)),\n",
        "\n",
        "    # Convolution Block 3\n",
        "    layers.Conv2D(256, (3, 3), activation='relu', padding='same'),\n",
        "    layers.BatchNormalization(),\n",
        "    layers.MaxPooling2D((2, 2)),\n",
        "\n",
        "    # Flatten and Dense layers\n",
        "    layers.Flatten(),\n",
        "    layers.Dense(256, activation='relu'),\n",
        "    layers.Dropout(0.6),\n",
        "    layers.Dense(10, activation='softmax')\n",
        "])"
      ],
      "metadata": {
        "trusted": true,
        "execution": {
          "iopub.status.busy": "2025-01-16T16:46:54.584736Z",
          "iopub.execute_input": "2025-01-16T16:46:54.585074Z",
          "iopub.status.idle": "2025-01-16T16:46:54.662129Z",
          "shell.execute_reply.started": "2025-01-16T16:46:54.585047Z",
          "shell.execute_reply": "2025-01-16T16:46:54.661329Z"
        },
        "id": "9NQOD3zuFWvF"
      },
      "outputs": [],
      "execution_count": null
    },
    {
      "cell_type": "code",
      "source": [
        "from tensorflow.keras.callbacks import ReduceLROnPlateau"
      ],
      "metadata": {
        "trusted": true,
        "execution": {
          "iopub.status.busy": "2025-01-16T16:46:55.008445Z",
          "iopub.execute_input": "2025-01-16T16:46:55.008827Z",
          "iopub.status.idle": "2025-01-16T16:46:55.015266Z",
          "shell.execute_reply.started": "2025-01-16T16:46:55.008797Z",
          "shell.execute_reply": "2025-01-16T16:46:55.014426Z"
        },
        "id": "anDrB4SPFWvG"
      },
      "outputs": [],
      "execution_count": null
    },
    {
      "cell_type": "code",
      "source": [
        "# Compile the model\n",
        "cnn_model_improved.compile(optimizer='adam',\n",
        "                           loss='categorical_crossentropy',\n",
        "                           metrics=['accuracy'])\n",
        "\n",
        "\n",
        "# Learning rate scheduler to decrease the learning rate when the validation loss plateaus\n",
        "lr_scheduler = ReduceLROnPlateau(monitor='loss', factor=0.5, patience=3, verbose=1)\n",
        "\n",
        "# Train the model on the entire training set (no validation split)\n",
        "cnn_history_improved = cnn_model_improved.fit(\n",
        "    x_train_fmnist, y_train_fmnist_cat,\n",
        "    epochs=15,\n",
        "    batch_size=64,\n",
        "    callbacks=[lr_scheduler]\n",
        ")"
      ],
      "metadata": {
        "trusted": true,
        "execution": {
          "iopub.status.busy": "2025-01-16T16:46:55.933901Z",
          "iopub.execute_input": "2025-01-16T16:46:55.934216Z",
          "iopub.status.idle": "2025-01-16T16:48:02.575079Z",
          "shell.execute_reply.started": "2025-01-16T16:46:55.934192Z",
          "shell.execute_reply": "2025-01-16T16:48:02.574398Z"
        },
        "id": "THRifHLTFWvG",
        "outputId": "4508343f-3d23-4cde-ad63-43721f3d4f0a"
      },
      "outputs": [
        {
          "name": "stdout",
          "text": "Epoch 1/15\n\u001b[1m938/938\u001b[0m \u001b[32m━━━━━━━━━━━━━━━━━━━━\u001b[0m\u001b[37m\u001b[0m \u001b[1m11s\u001b[0m 7ms/step - accuracy: 0.7510 - loss: 0.7693 - learning_rate: 0.0010\nEpoch 2/15\n\u001b[1m938/938\u001b[0m \u001b[32m━━━━━━━━━━━━━━━━━━━━\u001b[0m\u001b[37m\u001b[0m \u001b[1m4s\u001b[0m 4ms/step - accuracy: 0.8655 - loss: 0.3713 - learning_rate: 0.0010\nEpoch 3/15\n\u001b[1m938/938\u001b[0m \u001b[32m━━━━━━━━━━━━━━━━━━━━\u001b[0m\u001b[37m\u001b[0m \u001b[1m4s\u001b[0m 4ms/step - accuracy: 0.8898 - loss: 0.3059 - learning_rate: 0.0010\nEpoch 4/15\n\u001b[1m938/938\u001b[0m \u001b[32m━━━━━━━━━━━━━━━━━━━━\u001b[0m\u001b[37m\u001b[0m \u001b[1m4s\u001b[0m 4ms/step - accuracy: 0.9016 - loss: 0.2658 - learning_rate: 0.0010\nEpoch 5/15\n\u001b[1m938/938\u001b[0m \u001b[32m━━━━━━━━━━━━━━━━━━━━\u001b[0m\u001b[37m\u001b[0m \u001b[1m4s\u001b[0m 4ms/step - accuracy: 0.9137 - loss: 0.2377 - learning_rate: 0.0010\nEpoch 6/15\n\u001b[1m938/938\u001b[0m \u001b[32m━━━━━━━━━━━━━━━━━━━━\u001b[0m\u001b[37m\u001b[0m \u001b[1m4s\u001b[0m 4ms/step - accuracy: 0.9199 - loss: 0.2235 - learning_rate: 0.0010\nEpoch 7/15\n\u001b[1m938/938\u001b[0m \u001b[32m━━━━━━━━━━━━━━━━━━━━\u001b[0m\u001b[37m\u001b[0m \u001b[1m4s\u001b[0m 4ms/step - accuracy: 0.9257 - loss: 0.2057 - learning_rate: 0.0010\nEpoch 8/15\n\u001b[1m938/938\u001b[0m \u001b[32m━━━━━━━━━━━━━━━━━━━━\u001b[0m\u001b[37m\u001b[0m \u001b[1m4s\u001b[0m 4ms/step - accuracy: 0.9319 - loss: 0.1877 - learning_rate: 0.0010\nEpoch 9/15\n\u001b[1m938/938\u001b[0m \u001b[32m━━━━━━━━━━━━━━━━━━━━\u001b[0m\u001b[37m\u001b[0m \u001b[1m4s\u001b[0m 4ms/step - accuracy: 0.9374 - loss: 0.1719 - learning_rate: 0.0010\nEpoch 10/15\n\u001b[1m938/938\u001b[0m \u001b[32m━━━━━━━━━━━━━━━━━━━━\u001b[0m\u001b[37m\u001b[0m \u001b[1m4s\u001b[0m 4ms/step - accuracy: 0.9443 - loss: 0.1524 - learning_rate: 0.0010\nEpoch 11/15\n\u001b[1m938/938\u001b[0m \u001b[32m━━━━━━━━━━━━━━━━━━━━\u001b[0m\u001b[37m\u001b[0m \u001b[1m4s\u001b[0m 4ms/step - accuracy: 0.9474 - loss: 0.1444 - learning_rate: 0.0010\nEpoch 12/15\n\u001b[1m938/938\u001b[0m \u001b[32m━━━━━━━━━━━━━━━━━━━━\u001b[0m\u001b[37m\u001b[0m \u001b[1m4s\u001b[0m 4ms/step - accuracy: 0.9492 - loss: 0.1351 - learning_rate: 0.0010\nEpoch 13/15\n\u001b[1m938/938\u001b[0m \u001b[32m━━━━━━━━━━━━━━━━━━━━\u001b[0m\u001b[37m\u001b[0m \u001b[1m4s\u001b[0m 4ms/step - accuracy: 0.9544 - loss: 0.1245 - learning_rate: 0.0010\nEpoch 14/15\n\u001b[1m938/938\u001b[0m \u001b[32m━━━━━━━━━━━━━━━━━━━━\u001b[0m\u001b[37m\u001b[0m \u001b[1m4s\u001b[0m 4ms/step - accuracy: 0.9577 - loss: 0.1122 - learning_rate: 0.0010\nEpoch 15/15\n\u001b[1m938/938\u001b[0m \u001b[32m━━━━━━━━━━━━━━━━━━━━\u001b[0m\u001b[37m\u001b[0m \u001b[1m4s\u001b[0m 4ms/step - accuracy: 0.9617 - loss: 0.1030 - learning_rate: 0.0010\n",
          "output_type": "stream"
        }
      ],
      "execution_count": null
    },
    {
      "cell_type": "code",
      "source": [
        "# Evaluate the improved model on the test set\n",
        "test_loss_improved, test_accuracy_improved = cnn_model_improved.evaluate(x_test_fmnist, y_test_fmnist_cat)\n",
        "\n",
        "print(\"Improved Test Accuracy on FASHION-MNIST:\", test_accuracy_improved)"
      ],
      "metadata": {
        "trusted": true,
        "execution": {
          "iopub.status.busy": "2025-01-16T16:48:15.342863Z",
          "iopub.execute_input": "2025-01-16T16:48:15.343184Z",
          "iopub.status.idle": "2025-01-16T16:48:17.023529Z",
          "shell.execute_reply.started": "2025-01-16T16:48:15.343159Z",
          "shell.execute_reply": "2025-01-16T16:48:17.022809Z"
        },
        "id": "6JBub4suFWvG",
        "outputId": "1610ef7d-c799-4284-ddbb-495b6cd1bcac"
      },
      "outputs": [
        {
          "name": "stdout",
          "text": "\u001b[1m313/313\u001b[0m \u001b[32m━━━━━━━━━━━━━━━━━━━━\u001b[0m\u001b[37m\u001b[0m \u001b[1m2s\u001b[0m 3ms/step - accuracy: 0.9250 - loss: 0.2796\nImproved Test Accuracy on FASHION-MNIST: 0.9223999977111816\n",
          "output_type": "stream"
        }
      ],
      "execution_count": null
    },
    {
      "cell_type": "markdown",
      "source": [
        "## Task4"
      ],
      "metadata": {
        "id": "inkRfjU0FWvG"
      }
    },
    {
      "cell_type": "code",
      "source": [
        "import numpy as np\n",
        "import tensorflow as tf\n",
        "from tensorflow.keras.applications import MobileNetV2\n",
        "from tensorflow.keras.models import Model\n",
        "from tensorflow.keras.layers import GlobalAveragePooling2D, Dense, Dropout, Input\n",
        "from tensorflow.keras.optimizers import Adam\n",
        "from tensorflow.keras.callbacks import ReduceLROnPlateau\n",
        "from tensorflow import keras"
      ],
      "metadata": {
        "trusted": true,
        "execution": {
          "iopub.status.busy": "2025-01-16T16:49:16.699756Z",
          "iopub.execute_input": "2025-01-16T16:49:16.700078Z",
          "iopub.status.idle": "2025-01-16T16:49:16.711308Z",
          "shell.execute_reply.started": "2025-01-16T16:49:16.700056Z",
          "shell.execute_reply": "2025-01-16T16:49:16.710370Z"
        },
        "id": "HWG7fUrtFWvG"
      },
      "outputs": [],
      "execution_count": null
    },
    {
      "cell_type": "code",
      "source": [
        "# Use a pre-trained model (MobileNetV2)\n",
        "base_model_task4 = keras.applications.MobileNetV2(input_shape=(32, 32, 3), include_top=False, weights='imagenet')"
      ],
      "metadata": {
        "trusted": true,
        "execution": {
          "iopub.status.busy": "2025-01-16T16:49:19.738372Z",
          "iopub.execute_input": "2025-01-16T16:49:19.738666Z",
          "iopub.status.idle": "2025-01-16T16:49:20.746291Z",
          "shell.execute_reply.started": "2025-01-16T16:49:19.738644Z",
          "shell.execute_reply": "2025-01-16T16:49:20.745609Z"
        },
        "id": "kS1TKMW6FWvG",
        "outputId": "42303e9b-a69c-4f91-c6d3-8509c784ca30"
      },
      "outputs": [
        {
          "name": "stderr",
          "text": "<ipython-input-21-764e98e5a88d>:2: UserWarning: `input_shape` is undefined or non-square, or `rows` is not in [96, 128, 160, 192, 224]. Weights for input shape (224, 224) will be loaded as the default.\n  base_model_task4 = keras.applications.MobileNetV2(input_shape=(32, 32, 3), include_top=False, weights='imagenet')\n",
          "output_type": "stream"
        },
        {
          "name": "stdout",
          "text": "Downloading data from https://storage.googleapis.com/tensorflow/keras-applications/mobilenet_v2/mobilenet_v2_weights_tf_dim_ordering_tf_kernels_1.0_224_no_top.h5\n\u001b[1m9406464/9406464\u001b[0m \u001b[32m━━━━━━━━━━━━━━━━━━━━\u001b[0m\u001b[37m\u001b[0m \u001b[1m0s\u001b[0m 0us/step\n",
          "output_type": "stream"
        }
      ],
      "execution_count": null
    },
    {
      "cell_type": "code",
      "source": [
        "base_model_task4.trainable = False"
      ],
      "metadata": {
        "trusted": true,
        "execution": {
          "iopub.status.busy": "2025-01-16T16:49:24.541556Z",
          "iopub.execute_input": "2025-01-16T16:49:24.541844Z",
          "iopub.status.idle": "2025-01-16T16:49:24.547630Z",
          "shell.execute_reply.started": "2025-01-16T16:49:24.541822Z",
          "shell.execute_reply": "2025-01-16T16:49:24.546814Z"
        },
        "id": "IeiCHsU_FWvH"
      },
      "outputs": [],
      "execution_count": null
    },
    {
      "cell_type": "code",
      "source": [
        "# Add custom top layers\n",
        "model = models.Sequential([\n",
        "    layers.Input(shape=(32, 32, 3)),\n",
        "    base_model_task4,\n",
        "    GlobalAveragePooling2D(),\n",
        "    Dense(256, activation='relu'),\n",
        "    Dropout(0.5),\n",
        "    Dense(10, activation='softmax')\n",
        "])"
      ],
      "metadata": {
        "trusted": true,
        "execution": {
          "iopub.status.busy": "2025-01-16T16:49:36.238371Z",
          "iopub.execute_input": "2025-01-16T16:49:36.238684Z",
          "iopub.status.idle": "2025-01-16T16:49:36.265386Z",
          "shell.execute_reply.started": "2025-01-16T16:49:36.238656Z",
          "shell.execute_reply": "2025-01-16T16:49:36.264532Z"
        },
        "id": "rMefO23HFWvH"
      },
      "outputs": [],
      "execution_count": null
    },
    {
      "cell_type": "code",
      "source": [
        "# Resize and replicate channels efficiently\n",
        "x_train_resized = tf.image.resize(x_train, [32, 32])\n",
        "x_test_resized = tf.image.resize(x_test, [32, 32])"
      ],
      "metadata": {
        "trusted": true,
        "execution": {
          "iopub.status.busy": "2025-01-16T16:49:39.842453Z",
          "iopub.execute_input": "2025-01-16T16:49:39.842751Z",
          "iopub.status.idle": "2025-01-16T16:49:41.330538Z",
          "shell.execute_reply.started": "2025-01-16T16:49:39.842728Z",
          "shell.execute_reply": "2025-01-16T16:49:41.329836Z"
        },
        "id": "aLDXaT_VFWvH"
      },
      "outputs": [],
      "execution_count": null
    },
    {
      "cell_type": "code",
      "source": [
        "# One-hot encode the labels\n",
        "y_train = to_categorical(y_train, num_classes=10)\n",
        "y_test = to_categorical(y_test, num_classes=10)"
      ],
      "metadata": {
        "trusted": true,
        "execution": {
          "iopub.status.busy": "2025-01-16T16:49:43.865607Z",
          "iopub.execute_input": "2025-01-16T16:49:43.865890Z",
          "iopub.status.idle": "2025-01-16T16:49:43.870798Z",
          "shell.execute_reply.started": "2025-01-16T16:49:43.865870Z",
          "shell.execute_reply": "2025-01-16T16:49:43.870077Z"
        },
        "id": "EsdTTiEEFWvH"
      },
      "outputs": [],
      "execution_count": null
    },
    {
      "cell_type": "code",
      "source": [
        "# Compile the model\n",
        "model.compile(optimizer=Adam(),\n",
        "              loss='categorical_crossentropy',\n",
        "              metrics=['accuracy'])"
      ],
      "metadata": {
        "trusted": true,
        "execution": {
          "iopub.status.busy": "2025-01-16T16:49:46.194594Z",
          "iopub.execute_input": "2025-01-16T16:49:46.194879Z",
          "iopub.status.idle": "2025-01-16T16:49:46.202783Z",
          "shell.execute_reply.started": "2025-01-16T16:49:46.194858Z",
          "shell.execute_reply": "2025-01-16T16:49:46.201989Z"
        },
        "id": "sjBUfqu9FWvH"
      },
      "outputs": [],
      "execution_count": null
    },
    {
      "cell_type": "code",
      "source": [
        "# Train the pre-trained model\n",
        "history_pretrained = model.fit(x_train, y_train, epochs=15, batch_size=64, validation_data=(x_test, y_test))"
      ],
      "metadata": {
        "trusted": true,
        "execution": {
          "iopub.status.busy": "2025-01-16T16:49:48.660314Z",
          "iopub.execute_input": "2025-01-16T16:49:48.660633Z",
          "iopub.status.idle": "2025-01-16T16:51:12.070080Z",
          "shell.execute_reply.started": "2025-01-16T16:49:48.660606Z",
          "shell.execute_reply": "2025-01-16T16:51:12.069358Z"
        },
        "id": "POW965dkFWvH",
        "outputId": "d91fd654-acb9-4a49-d55c-21b3611fe540"
      },
      "outputs": [
        {
          "name": "stdout",
          "text": "Epoch 1/15\n\u001b[1m782/782\u001b[0m \u001b[32m━━━━━━━━━━━━━━━━━━━━\u001b[0m\u001b[37m\u001b[0m \u001b[1m19s\u001b[0m 14ms/step - accuracy: 0.2504 - loss: 2.0682 - val_accuracy: 0.3184 - val_loss: 1.8777\nEpoch 2/15\n\u001b[1m782/782\u001b[0m \u001b[32m━━━━━━━━━━━━━━━━━━━━\u001b[0m\u001b[37m\u001b[0m \u001b[1m4s\u001b[0m 6ms/step - accuracy: 0.3150 - loss: 1.8792 - val_accuracy: 0.3287 - val_loss: 1.8467\nEpoch 3/15\n\u001b[1m782/782\u001b[0m \u001b[32m━━━━━━━━━━━━━━━━━━━━\u001b[0m\u001b[37m\u001b[0m \u001b[1m4s\u001b[0m 6ms/step - accuracy: 0.3324 - loss: 1.8460 - val_accuracy: 0.3388 - val_loss: 1.8261\nEpoch 4/15\n\u001b[1m782/782\u001b[0m \u001b[32m━━━━━━━━━━━━━━━━━━━━\u001b[0m\u001b[37m\u001b[0m \u001b[1m4s\u001b[0m 6ms/step - accuracy: 0.3355 - loss: 1.8262 - val_accuracy: 0.3432 - val_loss: 1.8148\nEpoch 5/15\n\u001b[1m782/782\u001b[0m \u001b[32m━━━━━━━━━━━━━━━━━━━━\u001b[0m\u001b[37m\u001b[0m \u001b[1m4s\u001b[0m 6ms/step - accuracy: 0.3437 - loss: 1.8079 - val_accuracy: 0.3480 - val_loss: 1.8064\nEpoch 6/15\n\u001b[1m782/782\u001b[0m \u001b[32m━━━━━━━━━━━━━━━━━━━━\u001b[0m\u001b[37m\u001b[0m \u001b[1m5s\u001b[0m 6ms/step - accuracy: 0.3474 - loss: 1.7989 - val_accuracy: 0.3476 - val_loss: 1.8021\nEpoch 7/15\n\u001b[1m782/782\u001b[0m \u001b[32m━━━━━━━━━━━━━━━━━━━━\u001b[0m\u001b[37m\u001b[0m \u001b[1m5s\u001b[0m 6ms/step - accuracy: 0.3513 - loss: 1.7810 - val_accuracy: 0.3532 - val_loss: 1.7946\nEpoch 8/15\n\u001b[1m782/782\u001b[0m \u001b[32m━━━━━━━━━━━━━━━━━━━━\u001b[0m\u001b[37m\u001b[0m \u001b[1m5s\u001b[0m 6ms/step - accuracy: 0.3543 - loss: 1.7740 - val_accuracy: 0.3530 - val_loss: 1.7935\nEpoch 9/15\n\u001b[1m782/782\u001b[0m \u001b[32m━━━━━━━━━━━━━━━━━━━━\u001b[0m\u001b[37m\u001b[0m \u001b[1m4s\u001b[0m 6ms/step - accuracy: 0.3592 - loss: 1.7644 - val_accuracy: 0.3567 - val_loss: 1.7874\nEpoch 10/15\n\u001b[1m782/782\u001b[0m \u001b[32m━━━━━━━━━━━━━━━━━━━━\u001b[0m\u001b[37m\u001b[0m \u001b[1m4s\u001b[0m 6ms/step - accuracy: 0.3618 - loss: 1.7637 - val_accuracy: 0.3565 - val_loss: 1.7861\nEpoch 11/15\n\u001b[1m782/782\u001b[0m \u001b[32m━━━━━━━━━━━━━━━━━━━━\u001b[0m\u001b[37m\u001b[0m \u001b[1m4s\u001b[0m 6ms/step - accuracy: 0.3679 - loss: 1.7508 - val_accuracy: 0.3579 - val_loss: 1.7859\nEpoch 12/15\n\u001b[1m782/782\u001b[0m \u001b[32m━━━━━━━━━━━━━━━━━━━━\u001b[0m\u001b[37m\u001b[0m \u001b[1m4s\u001b[0m 6ms/step - accuracy: 0.3691 - loss: 1.7498 - val_accuracy: 0.3591 - val_loss: 1.7849\nEpoch 13/15\n\u001b[1m782/782\u001b[0m \u001b[32m━━━━━━━━━━━━━━━━━━━━\u001b[0m\u001b[37m\u001b[0m \u001b[1m4s\u001b[0m 6ms/step - accuracy: 0.3683 - loss: 1.7430 - val_accuracy: 0.3559 - val_loss: 1.7833\nEpoch 14/15\n\u001b[1m782/782\u001b[0m \u001b[32m━━━━━━━━━━━━━━━━━━━━\u001b[0m\u001b[37m\u001b[0m \u001b[1m5s\u001b[0m 6ms/step - accuracy: 0.3717 - loss: 1.7275 - val_accuracy: 0.3597 - val_loss: 1.7810\nEpoch 15/15\n\u001b[1m782/782\u001b[0m \u001b[32m━━━━━━━━━━━━━━━━━━━━\u001b[0m\u001b[37m\u001b[0m \u001b[1m5s\u001b[0m 6ms/step - accuracy: 0.3708 - loss: 1.7356 - val_accuracy: 0.3589 - val_loss: 1.7836\n",
          "output_type": "stream"
        }
      ],
      "execution_count": null
    },
    {
      "cell_type": "code",
      "source": [
        "# Evaluate the pre-trained model\n",
        "test_loss_pretrained, test_accuracy_pretrained = model.evaluate(x_test, y_test, verbose=0)\n",
        "print(\"Improved Test Accuracy on FASHION-MNIST (Pre-trained Model):\", test_accuracy_pretrained)"
      ],
      "metadata": {
        "trusted": true,
        "execution": {
          "iopub.status.busy": "2025-01-16T16:54:56.932427Z",
          "iopub.execute_input": "2025-01-16T16:54:56.932761Z",
          "iopub.status.idle": "2025-01-16T16:55:00.413087Z",
          "shell.execute_reply.started": "2025-01-16T16:54:56.932739Z",
          "shell.execute_reply": "2025-01-16T16:55:00.412382Z"
        },
        "id": "eVoOymlVFWvI",
        "outputId": "02286d60-50bc-40d2-854e-b887a2aaa1e5"
      },
      "outputs": [
        {
          "name": "stdout",
          "text": "Improved Test Accuracy on FASHION-MNIST (Pre-trained Model): 0.3589000105857849\n",
          "output_type": "stream"
        }
      ],
      "execution_count": null
    }
  ]
}