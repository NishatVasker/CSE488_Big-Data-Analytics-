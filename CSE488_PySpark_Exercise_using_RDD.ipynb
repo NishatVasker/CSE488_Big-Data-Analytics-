{
  "nbformat": 4,
  "nbformat_minor": 0,
  "metadata": {
    "colab": {
      "provenance": [],
      "authorship_tag": "ABX9TyN1XLfnjpWaD37O7P1FOfZf",
      "include_colab_link": true
    },
    "kernelspec": {
      "name": "python3",
      "display_name": "Python 3"
    },
    "language_info": {
      "name": "python"
    }
  },
  "cells": [
    {
      "cell_type": "markdown",
      "metadata": {
        "id": "view-in-github",
        "colab_type": "text"
      },
      "source": [
        "<a href=\"https://colab.research.google.com/github/NishatVasker/CSE488_Big-Data-Analytics-/blob/main/CSE488_PySpark_Exercise_using_RDD.ipynb\" target=\"_parent\"><img src=\"https://colab.research.google.com/assets/colab-badge.svg\" alt=\"Open In Colab\"/></a>"
      ]
    },
    {
      "cell_type": "markdown",
      "source": [
        "**Create and Transform an RDD**"
      ],
      "metadata": {
        "id": "Dr46We_l53H0"
      }
    },
    {
      "cell_type": "code",
      "execution_count": 1,
      "metadata": {
        "id": "FEo7VHJwnLlK",
        "colab": {
          "base_uri": "https://localhost:8080/"
        },
        "outputId": "78a24fa7-651d-41b7-ee00-090ba378aeec"
      },
      "outputs": [
        {
          "output_type": "stream",
          "name": "stdout",
          "text": [
            "Transformed numbers greater than 10: [12, 15, 18, 21, 24, 27, 30]\n"
          ]
        }
      ],
      "source": [
        "from pyspark import SparkContext\n",
        "sc = SparkContext.getOrCreate()\n",
        "integer_rdd = sc.parallelize([1, 2, 3, 4, 5, 6, 7, 8, 9, 10])\n",
        "transformed_rdd = integer_rdd.map(lambda num: num * 3).filter(lambda num: num > 10)\n",
        "final_output = transformed_rdd.collect()\n",
        "print(\"Transformed numbers greater than 10:\", final_output)\n"
      ]
    },
    {
      "cell_type": "markdown",
      "source": [
        "**Read a Text File**"
      ],
      "metadata": {
        "id": "n5bHcGlW6BXO"
      }
    },
    {
      "cell_type": "code",
      "source": [
        "file_rdd = sc.textFile(\"/content/text.txt\")\n",
        "word_list_rdd = file_rdd.flatMap(lambda line: line.split())\n",
        "total_words = word_list_rdd.count()\n",
        "print(f\"Total word count in the file: {total_words}\")"
      ],
      "metadata": {
        "colab": {
          "base_uri": "https://localhost:8080/"
        },
        "id": "fSqslC1q5XsY",
        "outputId": "075ed275-9d16-4a5e-db95-256e65f2b572"
      },
      "execution_count": 5,
      "outputs": [
        {
          "output_type": "stream",
          "name": "stdout",
          "text": [
            "Total word count in the file: 700\n"
          ]
        }
      ]
    },
    {
      "cell_type": "markdown",
      "source": [
        "**GroupByKey and ReduceByKey**"
      ],
      "metadata": {
        "id": "xqIPvufM7XAX"
      }
    },
    {
      "cell_type": "markdown",
      "source": [],
      "metadata": {
        "id": "CrJQ0GOg7W9Y"
      }
    },
    {
      "cell_type": "code",
      "source": [
        "scores_rdd = sc.parallelize([(\"Alice\", 85), (\"Bob\", 90), (\"Alice\", 95)])\n",
        "grouped_scores_rdd = scores_rdd.groupByKey().mapValues(list)\n",
        "print(\"Grouped Scores by Student:\", grouped_scores_rdd.collect())\n",
        "total_scores_rdd = scores_rdd.reduceByKey(lambda score1, score2: score1 + score2)\n",
        "print(\"Total Scores by Student:\", total_scores_rdd.collect())"
      ],
      "metadata": {
        "colab": {
          "base_uri": "https://localhost:8080/"
        },
        "id": "FNwKclDO5Xo5",
        "outputId": "40230650-a5fa-41c1-ef12-956cfc62cf2b"
      },
      "execution_count": 6,
      "outputs": [
        {
          "output_type": "stream",
          "name": "stdout",
          "text": [
            "Grouped Scores by Student: [('Alice', [85, 95]), ('Bob', [90])]\n",
            "Total Scores by Student: [('Alice', 180), ('Bob', 90)]\n"
          ]
        }
      ]
    },
    {
      "cell_type": "markdown",
      "source": [
        "**RDD Persistence**"
      ],
      "metadata": {
        "id": "BXVI-vo_7jVY"
      }
    },
    {
      "cell_type": "code",
      "source": [
        "import time\n",
        "\n",
        "# Step 1: Generate a large dataset\n",
        "large_dataset_rdd = sc.parallelize(range(1, 1000001))\n",
        "\n",
        "# Step 2: Measure performance without caching\n",
        "start_time = time.time()\n",
        "count_without_cache = large_dataset_rdd.count()\n",
        "sum_without_cache = large_dataset_rdd.sum()\n",
        "print(f\"Execution time without caching: {time.time() - start_time:.2f} seconds\")\n",
        "\n",
        "# Step 3: Enable caching and measure performance\n",
        "cached_rdd = large_dataset_rdd.cache()\n",
        "start_time = time.time()\n",
        "count_with_cache = cached_rdd.count()\n",
        "sum_with_cache = cached_rdd.sum()\n",
        "print(f\"Execution time with caching: {time.time() - start_time:.2f} seconds\")"
      ],
      "metadata": {
        "colab": {
          "base_uri": "https://localhost:8080/"
        },
        "id": "UDoWkmaR5Xmy",
        "outputId": "dd427b3f-d8a9-490c-ec56-e437de1ae701"
      },
      "execution_count": 7,
      "outputs": [
        {
          "output_type": "stream",
          "name": "stdout",
          "text": [
            "Execution time without caching: 1.04 seconds\n",
            "Execution time with caching: 1.53 seconds\n"
          ]
        }
      ]
    },
    {
      "cell_type": "markdown",
      "source": [
        "**Custom Transformations**"
      ],
      "metadata": {
        "id": "VsZV3Q0k7rHN"
      }
    },
    {
      "cell_type": "code",
      "source": [
        "def check_prime(n):\n",
        "    if n < 2:\n",
        "        return False\n",
        "    for divisor in range(2, int(n**0.5) + 1):\n",
        "        if n % divisor == 0:\n",
        "            return False\n",
        "    return True\n",
        "\n",
        "# Step 1: Creation an RDD of integers\n",
        "numbers_rdd = sc.parallelize(range(1, 101))\n",
        "\n",
        "# Step 2: Filter out prime numbers\n",
        "non_prime_numbers = numbers_rdd.filter(lambda num: not check_prime(num)).collect()\n",
        "print(\"Numbers that are not prime:\", non_prime_numbers)"
      ],
      "metadata": {
        "colab": {
          "base_uri": "https://localhost:8080/"
        },
        "id": "Q1qSAFY55XkI",
        "outputId": "4440b432-a269-4be5-d087-d9f858727525"
      },
      "execution_count": 8,
      "outputs": [
        {
          "output_type": "stream",
          "name": "stdout",
          "text": [
            "Numbers that are not prime: [1, 4, 6, 8, 9, 10, 12, 14, 15, 16, 18, 20, 21, 22, 24, 25, 26, 27, 28, 30, 32, 33, 34, 35, 36, 38, 39, 40, 42, 44, 45, 46, 48, 49, 50, 51, 52, 54, 55, 56, 57, 58, 60, 62, 63, 64, 65, 66, 68, 69, 70, 72, 74, 75, 76, 77, 78, 80, 81, 82, 84, 85, 86, 87, 88, 90, 91, 92, 93, 94, 95, 96, 98, 99, 100]\n"
          ]
        }
      ]
    },
    {
      "cell_type": "markdown",
      "source": [
        "**Transformation and Action Workflow**"
      ],
      "metadata": {
        "id": "3U_WEH8k7wvD"
      }
    },
    {
      "cell_type": "code",
      "source": [
        "# Step 1: Initialize the dataset\n",
        "product_data = sc.parallelize([\n",
        "    (\"Laptop\", \"Electronics\", 800),\n",
        "    (\"Shoes\", \"Clothing\", 50),\n",
        "    (\"Phone\", \"Electronics\", 500)\n",
        "])\n",
        "\n",
        "# Step 2: Filter products priced above 100\n",
        "high_price_products = product_data.filter(lambda item: item[2] > 100)\n",
        "\n",
        "# Step 3: Extract product names\n",
        "product_names = high_price_products.map(lambda item: item[0]).collect()\n",
        "print(\"Products priced above $100:\", product_names)\n",
        "\n",
        "# Step 4: Count products per category\n",
        "category_counts = product_data.map(lambda item: (item[1], 1)).reduceByKey(lambda x, y: x + y).collect()\n",
        "print(\"Product count by category:\", category_counts)"
      ],
      "metadata": {
        "colab": {
          "base_uri": "https://localhost:8080/"
        },
        "id": "usJUzAOI7lFM",
        "outputId": "5873e463-871b-4565-9174-46ab39a96da3"
      },
      "execution_count": 9,
      "outputs": [
        {
          "output_type": "stream",
          "name": "stdout",
          "text": [
            "Products priced above $100: ['Laptop', 'Phone']\n",
            "Product count by category: [('Electronics', 2), ('Clothing', 1)]\n"
          ]
        }
      ]
    },
    {
      "cell_type": "markdown",
      "source": [
        "**Integration with Spark SQL**"
      ],
      "metadata": {
        "id": "vaS4M92Y72CE"
      }
    },
    {
      "cell_type": "code",
      "source": [
        "from pyspark.sql import SparkSession\n",
        "\n",
        "# Step 1: Initialize SparkSession\n",
        "spark = SparkSession.builder.appName(\"StudentData\").getOrCreate()\n",
        "\n",
        "# Step 2: Load JSON data\n",
        "student_data = [{\"name\": \"Alice\", \"age\": 20, \"grade\": \"A\"}, {\"name\": \"Bob\", \"age\": 22, \"grade\": \"B\"}]\n",
        "student_df = spark.createDataFrame(student_data)\n",
        "\n",
        "# Step 3: Register as SQL table\n",
        "student_df.createOrReplaceTempView(\"students_table\")\n",
        "\n",
        "# Step 4: Query students with grade \"A\"\n",
        "top_students = spark.sql(\"SELECT * FROM students_table WHERE grade = 'A'\")\n",
        "top_students.show()\n",
        "\n",
        "# Step 5: Save results to JSON file\n",
        "top_students.write.json(\"path/to/output.json\")\n"
      ],
      "metadata": {
        "colab": {
          "base_uri": "https://localhost:8080/"
        },
        "id": "_WzTKDMZ7lBy",
        "outputId": "d8b35ded-e54d-407e-baee-04525a233bda"
      },
      "execution_count": 10,
      "outputs": [
        {
          "output_type": "stream",
          "name": "stdout",
          "text": [
            "+---+-----+-----+\n",
            "|age|grade| name|\n",
            "+---+-----+-----+\n",
            "| 20|    A|Alice|\n",
            "+---+-----+-----+\n",
            "\n"
          ]
        }
      ]
    },
    {
      "cell_type": "markdown",
      "source": [
        "**Advanced Word Count with Sorting**"
      ],
      "metadata": {
        "id": "SgR0AZMI8AGO"
      }
    },
    {
      "cell_type": "code",
      "source": [
        "text_data = sc.textFile(\"/content/text.txt\")\n",
        "\n",
        "word_counts = text_data.flatMap(lambda line: line.split()) \\\n",
        "    .map(lambda word: (word, 1)) \\\n",
        "    .reduceByKey(lambda count1, count2: count1 + count2) \\\n",
        "    .sortBy(lambda pair: pair[1], ascending=False)\n",
        "\n",
        "#top 5 most frequent words\n",
        "top_5_frequent_words = word_counts.take(5)\n",
        "print(\"Top 5 words by frequency:\", top_5_frequent_words)\n"
      ],
      "metadata": {
        "colab": {
          "base_uri": "https://localhost:8080/"
        },
        "id": "1-7Igta07k_k",
        "outputId": "f8979319-8753-47df-8cd1-20b3a053cb02"
      },
      "execution_count": 13,
      "outputs": [
        {
          "output_type": "stream",
          "name": "stdout",
          "text": [
            "Top 5 words by frequency: [('and', 21), ('M', 19), ('N', 16), ('2023', 15), ('Vasker,', 14)]\n"
          ]
        }
      ]
    },
    {
      "cell_type": "markdown",
      "source": [
        "**Custom Aggregations with aggregateByKey**"
      ],
      "metadata": {
        "id": "oDuWcFAQ8Q_2"
      }
    },
    {
      "cell_type": "code",
      "source": [
        "city_temp_rdd = sc.parallelize([(\"NY\", 32), (\"LA\", 75), (\"NY\", 28)])\n",
        "average_temp_rdd = city_temp_rdd.aggregateByKey(\n",
        "    (0, 0),  # (sum, count)\n",
        "    lambda acc, temp: (acc[0] + temp, acc[1] + 1),  # Combine within partitions\n",
        "    lambda acc1, acc2: (acc1[0] + acc2[0], acc1[1] + acc2[1])  # Combine across partitions\n",
        ").mapValues(lambda acc: acc[0] / acc[1])\n",
        "\n",
        "print(\"Average temperature by city:\", average_temp_rdd.collect())\n"
      ],
      "metadata": {
        "colab": {
          "base_uri": "https://localhost:8080/"
        },
        "id": "tm0oXJcZ7k9U",
        "outputId": "38f2f733-b3e4-40b4-956d-39de9b3e45fb"
      },
      "execution_count": 14,
      "outputs": [
        {
          "output_type": "stream",
          "name": "stdout",
          "text": [
            "Average temperature by city: [('NY', 30.0), ('LA', 75.0)]\n"
          ]
        }
      ]
    },
    {
      "cell_type": "code",
      "source": [],
      "metadata": {
        "id": "tQ4e2km_8SrR"
      },
      "execution_count": null,
      "outputs": []
    },
    {
      "cell_type": "code",
      "source": [],
      "metadata": {
        "id": "i39a6U-D8Snw"
      },
      "execution_count": null,
      "outputs": []
    }
  ]
}